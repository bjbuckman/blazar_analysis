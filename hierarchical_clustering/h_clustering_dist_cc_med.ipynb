{
 "cells": [
  {
   "cell_type": "code",
   "execution_count": 1,
   "metadata": {},
   "outputs": [],
   "source": [
    "import numpy as np\n",
    "import pandas as pd\n",
    "import os\n",
    "import sys\n",
    "\n",
    "from IPython.display import display\n",
    "from scipy.stats import pearsonr\n",
    "from scipy.cluster import hierarchy as hac\n",
    "\n",
    "from random import randint\n",
    "from scipy.stats import halfnorm\n",
    "\n",
    "import matplotlib\n",
    "import matplotlib.pyplot as plt\n",
    "from matplotlib import gridspec"
   ]
  },
  {
   "cell_type": "code",
   "execution_count": 2,
   "metadata": {},
   "outputs": [],
   "source": [
    "cc_dir = '../../2001/output/cross_corr/'\n",
    "gam_ac_dir = '../../2001/output/auto_gam/'\n"
   ]
  },
  {
   "cell_type": "code",
   "execution_count": 3,
   "metadata": {},
   "outputs": [],
   "source": [
    "''' iniitialize arrays'''\n",
    "\n",
    "object_arr = np.arange(0,763)\n",
    "num_obj = len(object_arr)\n",
    "\n",
    "corr_matrix = np.empty([num_obj,num_obj])\n",
    "corr_diff_matrix = np.empty([num_obj,num_obj])\n",
    "dist_matrix = np.empty([num_obj,num_obj])\n",
    "dist_tr_matrix = np.empty([num_obj,num_obj])\n",
    "\n",
    "corr_matrix.fill(np.nan)\n",
    "corr_diff_matrix.fill(np.nan)\n",
    "dist_matrix.fill(np.nan)\n",
    "dist_tr_matrix.fill(np.nan)\n",
    "\n",
    "## sample one object to get array lengths\n",
    "obj1 = 0\n",
    "cc_file1 = cc_dir+'object'+str(obj1).zfill(4)+'_stats000.dat'\n",
    "\n",
    "read_in = np.loadtxt(cc_file1)\n",
    "time = read_in[0]\n",
    "time = time[::5]\n",
    "arr_time = np.logical_and(time >= -1500, time <= 2500)\n",
    "num_time = np.sum(arr_time)\n",
    "\n",
    "# num_iterations = 20 ## number of cc points per time\n",
    "\n",
    "## create cc points matrix\n",
    "cor_multi = np.zeros([num_obj, num_time])\n"
   ]
  },
  {
   "cell_type": "code",
   "execution_count": 4,
   "metadata": {},
   "outputs": [
    {
     "name": "stdout",
     "output_type": "stream",
     "text": [
      "0 1 2 3 4 5 6 7 8 9 10 11 12 13 14 15 16 17 18 19 20 21 22 23 24 25 26 27 28 29 30 31 32 33 34 35 36 37 38 39 40 41 42 43 44 45 46 47 48 49 50 51 52 53 54 55 56 57 58 59 "
     ]
    },
    {
     "name": "stderr",
     "output_type": "stream",
     "text": [
      "C:\\Users\\psyko\\Anaconda3\\lib\\site-packages\\ipykernel_launcher.py:21: RuntimeWarning: invalid value encountered in greater\n"
     ]
    },
    {
     "name": "stdout",
     "output_type": "stream",
     "text": [
      "60 61 62 63 64 65 66 67 68 69 70 71 72 73 74 75 76 77 78 79 80 81 82 83 84 85 86 87 88 89 90 91 92 93 94 95 96 97 98 99 100 101 102 103 104 105 106 107 108 109 110 111 112 113 114 115 116 118 119 120 121 122 124 125 126 127 128 129 130 131 132 133 134 135 136 137 138 139 140 141 142 143 144 145 146 147 148 149 150 151 152 153 155 156 157 158 159 160 161 162 163 164 165 166 167 168 169 170 171 172 173 174 175 176 177 178 179 180 181 182 183 184 185 186 187 188 189 190 191 192 193 194 195 196 197 198 199 200 201 202 203 204 205 206 207 208 209 210 211 212 213 214 215 216 217 218 219 220 221 222 223 224 225 226 227 228 229 230 231 232 233 234 235 236 237 238 239 240 241 242 243 244 245 246 247 248 249 250 251 252 253 254 255 256 257 258 259 260 261 262 263 264 265 266 267 268 269 270 271 272 273 274 275 276 277 278 279 280 281 282 283 284 285 286 287 288 289 290 291 292 293 294 296 297 298 299 301 302 303 304 305 306 307 308 309 310 311 312 313 314 315 316 317 318 319 320 321 322 323 324 325 326 327 328 329 330 331 332 333 334 335 336 337 338 339 340 341 342 343 344 345 346 347 348 349 350 351 352 353 355 356 357 358 359 360 361 362 363 364 365 366 367 368 369 370 371 372 373 374 376 377 378 379 380 381 382 383 384 385 386 387 388 389 390 391 392 393 394 395 396 397 398 399 400 401 402 403 404 405 406 407 408 409 410 411 412 413 414 415 416 417 418 419 420 421 423 424 425 426 427 428 429 430 431 432 433 435 436 437 438 439 440 441 442 443 444 445 446 447 448 449 450 451 452 453 454 455 456 457 458 459 460 461 462 463 464 465 466 467 468 470 471 472 473 474 475 477 478 479 480 481 482 483 484 485 486 487 488 489 490 491 493 494 495 496 497 498 499 500 501 502 503 504 505 506 507 508 509 510 511 512 513 514 515 516 517 518 519 520 521 522 524 525 526 527 528 529 530 531 532 533 534 535 536 537 538 539 540 541 542 543 544 545 546 547 548 549 550 551 552 553 554 555 556 557 558 559 560 561 562 563 564 565 567 568 570 571 572 573 574 575 576 577 578 579 580 581 582 583 584 585 586 587 588 589 590 591 592 593 594 595 596 597 598 599 600 601 602 603 604 605 606 607 608 609 610 611 612 613 614 615 616 617 618 619 620 621 622 623 624 625 626 627 628 629 630 631 632 633 634 635 636 637 638 639 640 642 643 644 645 646 647 648 649 650 651 652 653 654 655 656 657 658 659 660 661 662 663 664 665 666 667 668 669 670 671 672 673 674 675 676 677 678 679 680 681 682 683 685 686 687 688 689 690 691 692 693 694 695 696 697 698 699 701 702 703 704 705 706 708 709 710 711 712 713 714 715 716 717 718 720 721 722 723 724 725 727 728 729 730 731 732 733 734 735 736 737 738 739 740 741 742 743 744 745 746 747 748 749 750 751 752 753 754 755 756 757 758 759 760 762 "
     ]
    }
   ],
   "source": [
    "''' populate cor_multi array'''\n",
    "\n",
    "for ii in range(0,num_obj):\n",
    "\tobj = object_arr[ii]\n",
    "\t\n",
    "\ttry:\n",
    "\t\tcc_file = cc_dir+'object'+str(obj).zfill(4)+'_stats000.dat'\n",
    "\t\tread_in = np.loadtxt(cc_file)\n",
    "\n",
    "\t\tdata = read_in[1:,::5]\n",
    "\texcept:\n",
    "\t\tcontinue\n",
    "\t\t\n",
    "\tdata = data[:,arr_time] ## get rid of times outside range\n",
    "# \tdata = data[:,::5] ## get rid of a bunch of punchs\n",
    "\t\n",
    "\tcor_mean = data[0]\n",
    "\tcor_err_d = cor_mean-data[1]\n",
    "\tcor_err_u = data[2]-cor_mean\n",
    "\t\n",
    "\tarr1 = np.logical_and(np.isfinite(cor_mean), cor_mean > -1.1) ## array of workable points\n",
    "\tarr1_not = np.logical_not(arr1)\n",
    "\t\n",
    "\tnum_temp = np.sum(arr1)\n",
    "\tcor_mean_temp = cor_mean[arr1]\n",
    "\tcor_err_d_temp = cor_err_d[arr1]\n",
    "\tcor_err_u_temp = cor_err_u[arr1]\n",
    "\t\n",
    "\tcc_vector = cor_mean_temp \n",
    "\t\n",
    "\tcor_multi[ii,arr1] = cc_vector\n",
    "\tcor_multi[ii,arr1_not] = np.nan\n",
    "\tprint(ii, end=' ')\n",
    "\t\n",
    "cor_diff_multi = cor_multi[:,1:] - cor_multi[:,:-1]"
   ]
  },
  {
   "cell_type": "code",
   "execution_count": 5,
   "metadata": {},
   "outputs": [
    {
     "name": "stderr",
     "output_type": "stream",
     "text": [
      "C:\\Users\\psyko\\Anaconda3\\lib\\site-packages\\scipy\\stats\\stats.py:3508: PearsonRConstantInputWarning: An input array is constant; the correlation coefficent is not defined.\n",
      "  warnings.warn(PearsonRConstantInputWarning())\n"
     ]
    },
    {
     "name": "stdout",
     "output_type": "stream",
     "text": [
      "0 1 2 3 4 5 6 7 8 9 10 11 12 13 14 15 16 17 18 19 20 21 22 23 24 25 26 27 28 29 30 31 32 33 34 35 36 37 38 39 40 41 42 43 44 45 46 47 48 49 50 51 52 53 54 55 56 57 58 59 60 61 62 63 64 65 66 67 68 69 70 71 72 73 74 75 76 77 78 79 80 81 82 83 84 85 86 87 88 89 90 91 92 93 94 95 96 97 98 99 100 101 102 103 104 105 106 107 108 109 110 111 112 113 114 115 116 117 118 119 120 121 122 123 124 125 126 127 128 129 130 131 132 133 134 135 136 137 138 139 140 141 142 143 144 145 146 147 148 149 150 151 152 153 154 155 156 157 158 159 160 161 162 163 164 165 166 167 168 169 170 171 172 173 174 175 176 177 178 179 180 181 182 183 184 185 186 187 188 189 190 191 192 193 194 195 196 197 198 199 200 201 202 203 204 205 206 207 208 209 210 211 212 213 214 215 216 217 218 219 220 221 222 223 224 225 226 227 228 229 230 231 232 233 234 235 236 237 238 239 240 241 242 243 244 245 246 247 248 249 250 251 252 253 254 255 256 257 258 259 260 261 262 263 264 265 266 267 268 269 270 271 272 273 274 275 276 277 278 279 280 281 282 283 284 285 286 287 288 289 290 291 292 293 294 295 296 297 298 299 300 301 302 303 304 305 306 307 308 309 310 311 312 313 314 315 316 317 318 319 320 321 322 323 324 325 326 327 328 329 330 331 332 333 334 335 336 337 338 339 340 341 342 343 344 345 346 347 348 349 350 351 352 353 354 355 356 357 358 359 360 361 362 363 364 365 366 367 368 369 370 371 372 373 374 375 376 377 378 379 380 381 382 383 384 385 386 387 388 389 390 391 392 393 394 395 396 397 398 399 400 401 402 403 404 405 406 407 408 409 410 411 412 413 414 415 416 417 418 419 420 421 422 423 424 425 426 427 428 429 430 431 432 433 434 435 436 437 438 439 440 441 442 443 444 445 446 447 448 449 450 451 452 453 454 455 456 457 458 459 460 461 462 463 464 465 466 467 468 469 470 471 472 473 474 475 476 477 478 479 480 481 482 483 484 485 486 487 488 489 490 491 492 493 494 495 496 497 498 499 500 501 502 503 504 505 506 507 508 509 510 511 512 513 514 515 516 517 518 519 520 521 522 523 524 525 526 527 528 529 530 531 532 533 534 535 536 537 538 539 540 541 542 543 544 545 546 547 548 549 550 551 552 553 554 555 556 557 558 559 560 561 562 563 564 565 566 567 568 569 570 571 572 573 574 575 576 577 578 579 580 581 582 583 584 585 586 587 588 589 590 591 592 593 594 595 596 597 598 599 600 601 602 603 604 605 606 607 608 609 610 611 612 613 614 615 616 617 618 619 620 621 622 623 624 625 626 627 628 629 630 631 632 633 634 635 636 637 638 639 640 641 642 643 644 645 646 647 648 649 650 651 652 653 654 655 656 657 658 659 660 661 662 663 664 665 666 667 668 669 670 671 672 673 674 675 676 677 678 679 680 681 682 683 684 685 686 687 688 689 690 691 692 693 694 695 696 697 698 699 700 701 702 703 704 705 706 707 708 709 710 711 712 713 714 715 716 717 718 719 720 721 722 723 724 725 726 727 728 729 730 731 732 733 734 735 736 737 738 739 740 741 742 743 744 745 746 747 748 749 750 751 752 753 754 755 756 757 758 759 760 761 762 "
     ]
    }
   ],
   "source": [
    "''' Calculate distance and CC matrices'''\n",
    "fac = 10. ## factor in arctan transform\n",
    "\n",
    "for ii in range(0,num_obj):\n",
    "\tarr1 = np.isfinite(cor_multi[ii])\n",
    "\tarr1_diff = np.isfinite(cor_diff_multi[ii])\n",
    "\t\n",
    "\tfor jj in range(ii,num_obj):\n",
    "\t\tarr2 = np.isfinite(cor_multi[jj])\n",
    "\t\tarr2_diff = np.isfinite(cor_diff_multi[jj])\n",
    "\t\tarr_tot = np.logical_and(arr1, arr2)\n",
    "\t\tarr_tot_diff = np.logical_and(arr1_diff, arr2_diff)\n",
    "\t\t\n",
    "# \t\tcc_iter_arr = np.empty(num_iterations**2)\n",
    "# \t\tcc_iter_arr.fill(np.nan)\n",
    "\t\t\n",
    "# \t\tcc_diff_iter_arr = np.empty(num_iterations**2)\n",
    "# \t\tcc_diff_iter_arr.fill(np.nan)\n",
    "\t\t\n",
    "# \t\tdist_iter_arr = np.empty(num_iterations**2)\n",
    "# \t\tdist_iter_arr.fill(np.nan)\n",
    "\t\t\n",
    "# \t\tdist_tr_iter_arr = np.empty(num_iterations**2)\n",
    "# \t\tdist_tr_iter_arr.fill(np.nan)\n",
    "\t\t\n",
    "\t\tx = cor_multi[ii,arr_tot]\n",
    "\t\tx = np.append(x, -x)\n",
    "\t\tx_diff = cor_diff_multi[ii,arr_tot_diff]\n",
    "\t\tx_diff = np.append(x_diff, -x_diff)\n",
    "\t\tx_tr = np.arctan(fac*x)\n",
    "\t\t\n",
    "\t\ty = cor_multi[jj,arr_tot]\n",
    "\t\ty = np.append(y, -y)\n",
    "\t\ty_diff = cor_diff_multi[jj,arr_tot_diff]\n",
    "\t\ty_diff = np.append(y_diff, -y_diff)\n",
    "\t\ty_tr = np.arctan(fac*y)\n",
    "\t\t\t\t\n",
    "\t\t## correlation between objects\n",
    "\t\tcc_corr, cc_pval = pearsonr(x,y)\n",
    "\t\tcc_iter_arr = cc_corr\n",
    "\n",
    "\t\t## correlation difference between objects\n",
    "\t\tcc_corr_diff, cc_pval_diff = pearsonr(x_diff,y_diff)\n",
    "\t\tcc_diff_iter_arr = cc_corr_diff\n",
    "\n",
    "\t\t## distance between objects\n",
    "\t\tdist = np.sqrt( np.sum(x**2 + y**2) )\n",
    "\t\tdist_iter_arr = dist\n",
    "\n",
    "\t\t## distance between objects transformed\n",
    "\t\tdist_tr = np.sqrt( np.sum(x_tr**2 + y_tr**2) )\n",
    "\t\tdist_tr_iter_arr = dist_tr\n",
    "\t\t\n",
    "\t\tcorr_matrix[ii,jj] = cc_iter_arr\n",
    "\t\tcorr_diff_matrix[ii,jj] = (cc_diff_iter_arr)\n",
    "\t\tdist_matrix[ii,jj] = (dist_iter_arr)\n",
    "\t\tdist_tr_matrix[ii,jj] = (dist_tr_iter_arr)\n",
    "\tprint(ii, end=' ')\n",
    "\t\t\n",
    "np.savetxt('xobject_corr_matrix_cc_med.dat', corr_matrix)\n",
    "np.savetxt('xobject_corr_diff_matrix_cc_med.dat', corr_diff_matrix)\n",
    "np.savetxt('xobject_dist_matrix_cc_med.dat', dist_matrix)\n",
    "np.savetxt('xobject_dist_tr_matrix_cc_med.dat', dist_tr_matrix)"
   ]
  },
  {
   "cell_type": "raw",
   "metadata": {},
   "source": [
    "''' LOAD FROM FILES IF NOT CALCULATED BEFORE '''\n",
    "\n",
    "corr_matrix = np.loadtxt('xobject_corr_matrix_cc.dat')\n",
    "corr_diff_matrix = np.loadtxt('xobject_corr_diff_matrix_cc.dat')\n",
    "dist_matrix = np.loadtxt('xobject_dist_matrix_cc.dat')\n",
    "dist_tr_matrix = np.loadtxt('xobject_dist_tr_matrix_cc.dat')"
   ]
  },
  {
   "cell_type": "raw",
   "metadata": {},
   "source": [
    "print(corr_matrix)\n",
    "print(corr_diff_matrix)\n",
    "print(dist_matrix)\n",
    "print(dist_tr_matrix)"
   ]
  },
  {
   "cell_type": "raw",
   "metadata": {},
   "source": [
    "''' create linkage vector'''\n",
    "obj_analyze = np.loadtxt('objects_to_analyze.dat')\n",
    "num_analyze = len(obj_analyze)\n",
    "\n",
    "dist_corr_matrix = 1 - corr_matrix\n",
    "\n",
    "c_corr_matrix = np.zeros(int(num_analyze*(num_analyze-1)/2))\n",
    "c_corr_diff_matrix = np.zeros(int(num_analyze*(num_analyze-1)/2))\n",
    "c_dist_matrix = np.zeros(int(num_analyze*(num_analyze-1)/2))\n",
    "c_dist_tr_matrix = np.zeros(int(num_analyze*(num_analyze-1)/2))\n",
    "\n",
    "index = 0\n",
    "for ii in range(0,num_obj):\n",
    "\tif np.any(obj_analyze == ii):\n",
    "\t\tfor jj in range(ii+1,num_obj):\n",
    "\t\t\tif np.any(obj_analyze == jj):\n",
    "\t\t\t\tc_corr_matrix[index] = dist_corr_matrix[ii,jj]\n",
    "\t\t\t\tc_corr_diff_matrix[index] = dist_corr_matrix[ii,jj]\n",
    "\t\t\t\tc_dist_matrix[index] = dist_matrix[ii,jj]\n",
    "\t\t\t\tc_dist_tr_matrix[index] = dist_tr_matrix[ii,jj]\n",
    "\t\t\t\t\n",
    "\t\t\t\tindex+= 1 \n",
    "\n",
    "'''normalize things'''\n",
    "c_corr_matrix/= np.median(c_corr_matrix)\n",
    "c_corr_diff_matrix/= np.median(c_corr_diff_matrix)\n",
    "c_dist_matrix/= np.median(c_dist_matrix)\n",
    "c_dist_tr_matrix/= np.median(c_dist_tr_matrix)\n"
   ]
  },
  {
   "cell_type": "raw",
   "metadata": {},
   "source": [
    "font = {'family' : 'serif',\n",
    "\t\t'weight' : 'normal',\n",
    "\t\t'size'   : 6}\n",
    "\n",
    "matplotlib.rc('font', **font)"
   ]
  },
  {
   "cell_type": "raw",
   "metadata": {},
   "source": [
    "''' PLOT dist corr cc '''\n",
    "links = hac.linkage(c_corr_matrix)\n",
    "fig = plt.figure(figsize=(100,10))\n",
    "dn = hac.dendrogram(links, labels=obj_analyze)\n",
    "\n",
    "plt.savefig('plot_hac_corr_cc.pdf', dpi=400)\n"
   ]
  },
  {
   "cell_type": "raw",
   "metadata": {},
   "source": [
    "''' PLOT dist '''\n",
    "links = hac.linkage(c_dist_tr_matrix)\n",
    "fig = plt.figure(figsize=(100,10))\n",
    "dn = hac.dendrogram(links, labels=obj_analyze)\n",
    "\n",
    "plt.savefig('plot_hac_dist_tr_cc.pdf', dpi=400)\n"
   ]
  },
  {
   "cell_type": "raw",
   "metadata": {},
   "source": [
    "''' PLOT dist corr + dist cc '''\n",
    "c_matrix_total = c_corr_matrix + c_dist_tr_matrix\n",
    "c_matrix_total-= np.amin(c_matrix_total) - 0.01\n",
    "links = hac.linkage(c_matrix_total)\n",
    "fig = plt.figure(figsize=(100,10))\n",
    "dn = hac.dendrogram(links, labels=obj_analyze)\n",
    "\n",
    "plt.savefig('plot_hac_corr+dist_cc.pdf', dpi=400)\n"
   ]
  },
  {
   "cell_type": "code",
   "execution_count": null,
   "metadata": {},
   "outputs": [],
   "source": []
  }
 ],
 "metadata": {
  "kernelspec": {
   "display_name": "Python 3",
   "language": "python",
   "name": "python3"
  },
  "language_info": {
   "codemirror_mode": {
    "name": "ipython",
    "version": 3
   },
   "file_extension": ".py",
   "mimetype": "text/x-python",
   "name": "python",
   "nbconvert_exporter": "python",
   "pygments_lexer": "ipython3",
   "version": "3.7.6"
  }
 },
 "nbformat": 4,
 "nbformat_minor": 4
}
