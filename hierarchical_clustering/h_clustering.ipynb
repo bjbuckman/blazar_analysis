{
 "cells": [
  {
   "cell_type": "code",
   "execution_count": 22,
   "metadata": {},
   "outputs": [],
   "source": [
    "import numpy as np\n",
    "import pandas as pd\n",
    "import os\n",
    "import sys\n",
    "\n",
    "from IPython.display import display\n",
    "from scipy.stats import pearsonr\n",
    "from scipy.cluster import hierarchy as hac\n",
    "\n",
    "from matplotlib import pyplot as plt"
   ]
  },
  {
   "cell_type": "code",
   "execution_count": 31,
   "metadata": {},
   "outputs": [],
   "source": [
    "cc_dir = '../../2001/output/cross_corr/'\n",
    "gam_ac_dir = '../../2001/output/auto_gam/'\n"
   ]
  },
  {
   "cell_type": "code",
   "execution_count": 38,
   "metadata": {},
   "outputs": [
    {
     "name": "stderr",
     "output_type": "stream",
     "text": [
      "C:\\Users\\psyko\\Anaconda3\\lib\\site-packages\\ipykernel_launcher.py:21: RuntimeWarning: invalid value encountered in greater\n",
      "C:\\Users\\psyko\\Anaconda3\\lib\\site-packages\\ipykernel_launcher.py:44: RuntimeWarning: invalid value encountered in greater\n"
     ]
    },
    {
     "name": "stdout",
     "output_type": "stream",
     "text": [
      "[0, 1][0, 2][0, 3][0, 4][0, 5][0, 6][0, 7][0, 8][0, 9][0, 10][0, 11][0, 12][0, 13][0, 14][0, 15][0, 16][0, 17][0, 18][0, 19][0, 20][0, 21][0, 22][0, 23][0, 24][0, 25][0, 26][0, 27][0, 28][0, 29][0, 30][0, 31][0, 32][0, 33][0, 34][0, 35][0, 36][0, 37][0, 38][0, 39][0, 40][0, 41][0, 42][0, 43][0, 44][0, 45][0, 46][0, 47][0, 48][0, 49][1, 2][1, 3][1, 4][1, 5][1, 6][1, 7][1, 8][1, 9][1, 10][1, 11][1, 12][1, 13][1, 14][1, 15][1, 16][1, 17][1, 18][1, 19][1, 20][1, 21][1, 22][1, 23][1, 24][1, 25][1, 26][1, 27][1, 28][1, 29][1, 30][1, 31][1, 32][1, 33][1, 34][1, 35][1, 36][1, 37][1, 38][1, 39][1, 40][1, 41][1, 42][1, 43][1, 44][1, 45][1, 46][1, 47][1, 48][1, 49][2, 3][2, 4][2, 5][2, 6][2, 7][2, 8][2, 9][2, 10][2, 11][2, 12][2, 13][2, 14][2, 15][2, 16][2, 17][2, 18][2, 19][2, 20][2, 21][2, 22][2, 23][2, 24][2, 25][2, 26][2, 27][2, 28][2, 29][2, 30][2, 31][2, 32][2, 33][2, 34][2, 35][2, 36][2, 37][2, 38][2, 39][2, 40][2, 41][2, 42][2, 43][2, 44][2, 45][2, 46][2, 47][2, 48][2, 49][3, 4][3, 5][3, 6][3, 7][3, 8][3, 9][3, 10][3, 11][3, 12][3, 13][3, 14][3, 15][3, 16][3, 17][3, 18][3, 19][3, 20][3, 21][3, 22][3, 23][3, 24][3, 25][3, 26][3, 27][3, 28][3, 29][3, 30][3, 31][3, 32][3, 33][3, 34][3, 35][3, 36][3, 37][3, 38][3, 39][3, 40][3, 41][3, 42][3, 43][3, 44][3, 45][3, 46][3, 47][3, 48][3, 49][4, 5][4, 6][4, 7][4, 8][4, 9][4, 10][4, 11][4, 12][4, 13][4, 14][4, 15][4, 16][4, 17][4, 18][4, 19][4, 20][4, 21][4, 22][4, 23][4, 24][4, 25][4, 26][4, 27][4, 28][4, 29][4, 30][4, 31][4, 32][4, 33][4, 34][4, 35][4, 36][4, 37][4, 38][4, 39][4, 40][4, 41][4, 42][4, 43][4, 44][4, 45][4, 46][4, 47][4, 48][4, 49][5, 6][5, 7][5, 8][5, 9][5, 10][5, 11][5, 12][5, 13][5, 14][5, 15][5, 16][5, 17][5, 18][5, 19][5, 20][5, 21][5, 22][5, 23][5, 24][5, 25][5, 26][5, 27][5, 28][5, 29][5, 30][5, 31][5, 32][5, 33][5, 34][5, 35][5, 36][5, 37][5, 38][5, 39][5, 40][5, 41][5, 42][5, 43][5, 44][5, 45][5, 46][5, 47][5, 48][5, 49][6, 7][6, 8][6, 9][6, 10][6, 11][6, 12][6, 13][6, 14][6, 15][6, 16][6, 17][6, 18][6, 19][6, 20][6, 21][6, 22][6, 23][6, 24][6, 25][6, 26][6, 27][6, 28][6, 29][6, 30][6, 31][6, 32][6, 33][6, 34][6, 35][6, 36][6, 37][6, 38][6, 39][6, 40][6, 41][6, 42][6, 43][6, 44][6, 45][6, 46][6, 47][6, 48][6, 49][7, 8][7, 9][7, 10][7, 11][7, 12][7, 13][7, 14][7, 15][7, 16][7, 17][7, 18][7, 19][7, 20][7, 21][7, 22][7, 23][7, 24][7, 25][7, 26][7, 27][7, 28][7, 29][7, 30][7, 31][7, 32][7, 33][7, 34][7, 35][7, 36][7, 37][7, 38][7, 39][7, 40][7, 41][7, 42][7, 43][7, 44][7, 45][7, 46][7, 47][7, 48][7, 49][8, 9][8, 10][8, 11][8, 12][8, 13][8, 14][8, 15][8, 16][8, 17][8, 18][8, 19][8, 20][8, 21][8, 22][8, 23][8, 24][8, 25][8, 26][8, 27][8, 28][8, 29][8, 30][8, 31][8, 32][8, 33][8, 34][8, 35][8, 36][8, 37][8, 38][8, 39][8, 40][8, 41][8, 42][8, 43][8, 44][8, 45][8, 46][8, 47][8, 48][8, 49][9, 10][9, 11][9, 12][9, 13][9, 14][9, 15][9, 16][9, 17][9, 18][9, 19][9, 20][9, 21][9, 22][9, 23][9, 24][9, 25][9, 26][9, 27][9, 28][9, 29][9, 30][9, 31][9, 32][9, 33][9, 34][9, 35][9, 36][9, 37][9, 38][9, 39][9, 40][9, 41][9, 42][9, 43][9, 44][9, 45][9, 46][9, 47][9, 48][9, 49][10, 11][10, 12][10, 13][10, 14][10, 15][10, 16][10, 17][10, 18][10, 19][10, 20][10, 21][10, 22][10, 23][10, 24][10, 25][10, 26][10, 27][10, 28][10, 29][10, 30][10, 31][10, 32][10, 33][10, 34][10, 35][10, 36][10, 37][10, 38][10, 39][10, 40][10, 41][10, 42][10, 43][10, 44][10, 45][10, 46][10, 47][10, 48][10, 49][11, 12][11, 13][11, 14][11, 15][11, 16][11, 17][11, 18][11, 19][11, 20][11, 21][11, 22][11, 23][11, 24][11, 25][11, 26][11, 27][11, 28][11, 29][11, 30][11, 31][11, 32][11, 33][11, 34][11, 35][11, 36][11, 37][11, 38][11, 39][11, 40][11, 41][11, 42][11, 43][11, 44][11, 45][11, 46][11, 47][11, 48][11, 49][12, 13][12, 14][12, 15][12, 16][12, 17][12, 18][12, 19][12, 20][12, 21][12, 22][12, 23][12, 24][12, 25][12, 26][12, 27][12, 28][12, 29][12, 30][12, 31][12, 32][12, 33][12, 34][12, 35][12, 36][12, 37][12, 38][12, 39][12, 40][12, 41][12, 42][12, 43][12, 44][12, 45][12, 46][12, 47][12, 48][12, 49][13, 14][13, 15][13, 16][13, 17][13, 18][13, 19][13, 20][13, 21][13, 22][13, 23][13, 24][13, 25][13, 26][13, 27][13, 28][13, 29][13, 30][13, 31][13, 32][13, 33][13, 34][13, 35][13, 36][13, 37][13, 38][13, 39][13, 40][13, 41][13, 42][13, 43][13, 44][13, 45][13, 46][13, 47][13, 48][13, 49][14, 15][14, 16][14, 17][14, 18][14, 19][14, 20][14, 21][14, 22][14, 23][14, 24][14, 25][14, 26][14, 27][14, 28][14, 29][14, 30][14, 31][14, 32][14, 33][14, 34][14, 35][14, 36][14, 37][14, 38][14, 39][14, 40][14, 41][14, 42][14, 43][14, 44][14, 45][14, 46][14, 47][14, 48][14, 49][15, 16][15, 17][15, 18][15, 19][15, 20][15, 21][15, 22][15, 23][15, 24][15, 25][15, 26][15, 27][15, 28][15, 29][15, 30][15, 31][15, 32][15, 33][15, 34][15, 35][15, 36][15, 37][15, 38][15, 39][15, 40][15, 41][15, 42][15, 43][15, 44][15, 45][15, 46][15, 47][15, 48][15, 49][16, 17][16, 18][16, 19][16, 20][16, 21][16, 22][16, 23][16, 24][16, 25][16, 26][16, 27][16, 28][16, 29][16, 30][16, 31][16, 32][16, 33][16, 34][16, 35][16, 36][16, 37][16, 38][16, 39][16, 40][16, 41][16, 42][16, 43][16, 44][16, 45][16, 46][16, 47][16, 48][16, 49][17, 18][17, 19][17, 20][17, 21][17, 22][17, 23][17, 24][17, 25][17, 26][17, 27][17, 28][17, 29][17, 30][17, 31][17, 32][17, 33][17, 34][17, 35][17, 36][17, 37][17, 38][17, 39][17, 40][17, 41][17, 42][17, 43][17, 44][17, 45][17, 46][17, 47][17, 48][17, 49][18, 19][18, 20][18, 21][18, 22][18, 23][18, 24][18, 25][18, 26][18, 27][18, 28][18, 29][18, 30][18, 31][18, 32][18, 33][18, 34][18, 35][18, 36][18, 37][18, 38][18, 39][18, 40][18, 41][18, 42][18, 43][18, 44][18, 45][18, 46][18, 47][18, 48][18, 49][19, 20][19, 21][19, 22][19, 23][19, 24][19, 25][19, 26][19, 27][19, 28][19, 29][19, 30][19, 31][19, 32][19, 33][19, 34][19, 35][19, 36][19, 37][19, 38][19, 39][19, 40][19, 41][19, 42][19, 43][19, 44][19, 45][19, 46][19, 47][19, 48][19, 49][20, 21][20, 22][20, 23][20, 24][20, 25][20, 26][20, 27][20, 28][20, 29][20, 30][20, 31][20, 32][20, 33][20, 34][20, 35][20, 36][20, 37][20, 38][20, 39][20, 40][20, 41][20, 42][20, 43][20, 44][20, 45][20, 46][20, 47][20, 48][20, 49][21, 22][21, 23][21, 24][21, 25][21, 26][21, 27][21, 28][21, 29][21, 30][21, 31][21, 32][21, 33][21, 34][21, 35][21, 36][21, 37][21, 38][21, 39][21, 40][21, 41][21, 42][21, 43][21, 44][21, 45][21, 46][21, 47][21, 48][21, 49][22, 23][22, 24][22, 25][22, 26][22, 27][22, 28][22, 29][22, 30][22, 31][22, 32][22, 33][22, 34][22, 35][22, 36][22, 37][22, 38][22, 39][22, 40][22, 41][22, 42][22, 43][22, 44][22, 45][22, 46][22, 47][22, 48][22, 49][23, 24][23, 25][23, 26][23, 27][23, 28][23, 29][23, 30][23, 31][23, 32][23, 33][23, 34][23, 35][23, 36][23, 37][23, 38][23, 39][23, 40][23, 41][23, 42][23, 43][23, 44][23, 45][23, 46][23, 47][23, 48][23, 49][24, 25][24, 26][24, 27][24, 28][24, 29][24, 30][24, 31][24, 32][24, 33][24, 34][24, 35][24, 36][24, 37][24, 38][24, 39][24, 40][24, 41][24, 42][24, 43][24, 44][24, 45][24, 46][24, 47][24, 48][24, 49][25, 26][25, 27][25, 28][25, 29][25, 30][25, 31][25, 32][25, 33][25, 34][25, 35][25, 36][25, 37][25, 38][25, 39][25, 40][25, 41][25, 42][25, 43][25, 44][25, 45][25, 46][25, 47][25, 48][25, 49][26, 27][26, 28][26, 29][26, 30][26, 31][26, 32][26, 33][26, 34][26, 35][26, 36][26, 37][26, 38][26, 39][26, 40][26, 41][26, 42][26, 43][26, 44][26, 45][26, 46][26, 47][26, 48][26, 49][27, 28][27, 29][27, 30][27, 31][27, 32][27, 33][27, 34][27, 35][27, 36][27, 37][27, 38][27, 39][27, 40][27, 41][27, 42][27, 43][27, 44][27, 45][27, 46][27, 47][27, 48][27, 49][28, 29][28, 30][28, 31][28, 32][28, 33][28, 34][28, 35][28, 36][28, 37][28, 38][28, 39][28, 40][28, 41][28, 42][28, 43][28, 44][28, 45][28, 46][28, 47][28, 48][28, 49][29, 30][29, 31][29, 32][29, 33][29, 34][29, 35][29, 36][29, 37][29, 38][29, 39][29, 40][29, 41][29, 42][29, 43][29, 44][29, 45][29, 46][29, 47][29, 48][29, 49][30, 31][30, 32][30, 33][30, 34][30, 35][30, 36][30, 37][30, 38][30, 39][30, 40][30, 41][30, 42][30, 43][30, 44][30, 45][30, 46][30, 47][30, 48][30, 49][31, 32][31, 33][31, 34][31, 35][31, 36][31, 37][31, 38][31, 39][31, 40][31, 41][31, 42][31, 43][31, 44][31, 45][31, 46][31, 47][31, 48][31, 49][32, 33][32, 34][32, 35][32, 36][32, 37][32, 38][32, 39][32, 40][32, 41][32, 42][32, 43][32, 44][32, 45][32, 46][32, 47][32, 48][32, 49][33, 34][33, 35][33, 36][33, 37][33, 38][33, 39][33, 40][33, 41][33, 42][33, 43][33, 44][33, 45][33, 46][33, 47][33, 48][33, 49][34, 35][34, 36][34, 37][34, 38][34, 39][34, 40][34, 41][34, 42][34, 43][34, 44][34, 45][34, 46][34, 47][34, 48][34, 49][35, 36][35, 37][35, 38][35, 39][35, 40][35, 41][35, 42][35, 43][35, 44][35, 45][35, 46][35, 47][35, 48][35, 49][36, 37][36, 38][36, 39][36, 40][36, 41][36, 42][36, 43][36, 44][36, 45][36, 46][36, 47][36, 48][36, 49][37, 38][37, 39][37, 40][37, 41][37, 42][37, 43][37, 44][37, 45][37, 46][37, 47][37, 48][37, 49][38, 39][38, 40][38, 41][38, 42][38, 43][38, 44][38, 45][38, 46][38, 47][38, 48][38, 49][39, 40][39, 41][39, 42][39, 43][39, 44][39, 45][39, 46][39, 47][39, 48][39, 49][40, 41][40, 42][40, 43][40, 44][40, 45][40, 46][40, 47][40, 48][40, 49][41, 42][41, 43][41, 44][41, 45][41, 46][41, 47][41, 48][41, 49][42, 43][42, 44][42, 45][42, 46][42, 47][42, 48][42, 49][43, 44][43, 45][43, 46][43, 47][43, 48][43, 49][44, 45][44, 46][44, 47][44, 48][44, 49][45, 46][45, 47][45, 48][45, 49][46, 47][46, 48][46, 49][47, 48][47, 49][48, 49]"
     ]
    }
   ],
   "source": [
    "object_arr = np.arange(0,50)\n",
    "\n",
    "c_matrix = np.zeros(int(len(object_arr)*(len(object_arr)-1)/2))\n",
    "\n",
    "index = 0\n",
    "for ii in range(0,len(object_arr)):\n",
    "\tobj1 = object_arr[ii]\n",
    "\t\n",
    "\t''' CC1 '''\n",
    "\tcc_file1 = cc_dir+'object'+str(obj1).zfill(4)+'_stats000.dat'\n",
    "\t\n",
    "\tread_in = np.loadtxt(cc_file1)\n",
    "\n",
    "\ttime = read_in[0]\n",
    "\tdata = read_in[1:]\n",
    "\t\n",
    "\tarr_time = np.logical_and(time >= -1000, time <= 2000)\n",
    "\tdata = data[:,arr_time]\n",
    "\t\n",
    "\tcor_mean = data[0,::5]\n",
    "# \tcor_err_d = cor_mean-data[1]\n",
    "# \tcor_err_u = data[2]-cor_mean\n",
    "\t\n",
    "\tarr1 = np.logical_and(np.isfinite(cor_mean), cor_mean > -1.1)\n",
    "\t\n",
    "\t''' AC-gam '''\n",
    "\tac_gam_file1 = gam_ac_dir+'object'+str(obj1).zfill(4)+'_auto_gam_stats000.dat'\n",
    "\t\n",
    "\tread_in = np.loadtxt(ac_gam_file1)\n",
    "\ttime = read_in[0]\n",
    "\tdata = read_in[1:]\n",
    "\tarr_time_acg = time <= 2000\n",
    "\tdata = data[:,arr_time_acg]\n",
    "\n",
    "\tacg_mean1 = data[0,::5]\n",
    "\t\n",
    "\tarr1_acg = np.logical_and(np.isfinite(acg_mean1), acg_mean1 > -1.1)\n",
    "\t\n",
    "\tfor jj in range(ii+1, len(object_arr)):\n",
    "\t\tobj2 = object_arr[jj]\n",
    "\t\tcc_file2 = cc_dir+'object'+str(obj2).zfill(4)+'_stats000.dat'\n",
    "\n",
    "\t\tread_in = np.loadtxt(cc_file2)\n",
    "\t\tdata = read_in[1:]\n",
    "\t\tdata = data[:,arr_time]\n",
    "\n",
    "\t\tcor_mean2 = data[0,::5]\n",
    "# \t\tcor_err_d2 = cor_mean-data[1]\n",
    "# \t\tcor_err_u2 = data[2]-cor_mean\n",
    "\t\t\n",
    "\t\tarr2 = np.logical_and(np.isfinite(cor_mean2), cor_mean > -1.1)\n",
    "\t\tarr_tot = np.logical_and(arr1, arr2)\n",
    "\t\t\n",
    "\t\tx_cc = cor_mean[arr_tot]\n",
    "\t\ty_cc = cor_mean2[arr_tot]\n",
    "\t\t\n",
    "\t\tcc_corr, cc_pval = pearsonr(x_cc,y_cc)\n",
    "\t\t\n",
    "\t\t\n",
    "\t\t''' AC-gam '''\n",
    "\t\tac_gam_file2 = gam_ac_dir+'object'+str(obj2).zfill(4)+'_auto_gam_stats000.dat'\n",
    "\n",
    "\t\tread_in = np.loadtxt(ac_gam_file2)\n",
    "\t\tdata = read_in[1:]\n",
    "\t\tdata = data[:,arr_time_acg]\n",
    "\n",
    "\t\tacg_mean2 = data[0,::5]\n",
    "\t\tarr2_acg = np.logical_and(np.isfinite(acg_mean2), acg_mean2 > -1.1)\n",
    "\t\t\n",
    "\t\tarr_tot_acg = np.logical_and(arr1_acg, arr2_acg)\n",
    "\t\tx_acg = acg_mean1[arr_tot_acg]\n",
    "\t\ty_acg = acg_mean2[arr_tot_acg]\n",
    "\t\t\n",
    "\t\tacg_corr, acg_pval = pearsonr(x_acg, y_acg)\n",
    "\t\t\n",
    "\t\t\n",
    "\t\tc_matrix[index] = (1.-cc_corr)**2 + (1.-acg_corr)**2\n",
    "# \t\tprint([obj1, obj2], end='')\n",
    "\t\tindex+= 1\n",
    "\tprint(obj1, end=' ')\n",
    "c_matrix_cc = c_matrix\n",
    "\t\n",
    "np.savetxt('cc_corr_c_matrix.dat', c_matrix)"
   ]
  },
  {
   "cell_type": "code",
   "execution_count": 39,
   "metadata": {},
   "outputs": [
    {
     "name": "stdout",
     "output_type": "stream",
     "text": [
      "[1.41130835 1.58674579 0.9846307  ... 1.39315834 1.32594894 1.76636405]\n"
     ]
    }
   ],
   "source": [
    "print(c_matrix)"
   ]
  },
  {
   "cell_type": "code",
   "execution_count": 40,
   "metadata": {},
   "outputs": [],
   "source": [
    "links = hac.linkage(c_matrix)"
   ]
  },
  {
   "cell_type": "code",
   "execution_count": 41,
   "metadata": {},
   "outputs": [
    {
     "data": {
      "image/png": "[encoded data removed]",
      "text/plain": [
       "<Figure size 432x288 with 1 Axes>"
      ]
     },
     "metadata": {
      "needs_background": "light"
     },
     "output_type": "display_data"
    }
   ],
   "source": [
    "fig = plt.figure()\n",
    "dn = hac.dendrogram(links)\n",
    "\n",
    "\n",
    "plt.savefig('clusters+gam.png', dpi=400)\n"
   ]
  },
  {
   "cell_type": "code",
   "execution_count": 47,
   "metadata": {},
   "outputs": [
    {
     "name": "stdout",
     "output_type": "stream",
     "text": [
      "0 1 2 3 4 5 6 7 8 9 10 11 12 13 14 15 16 17 18 19 20 21 22 23 24 25 26 27 28 29 30 31 32 33 34 35 36 37 38 39 40 41 42 43 44 45 46 47 48 49 "
     ]
    }
   ],
   "source": [
    "object_arr = np.arange(0,50)\n",
    "\n",
    "c_matrix = np.zeros(int(len(object_arr)*(len(object_arr)-1)/2))\n",
    "c_matrix_cc = np.zeros(int(len(object_arr)*(len(object_arr)-1)/2))\n",
    "\n",
    "index = 0\n",
    "for ii in range(0,len(object_arr)):\n",
    "\tobj1 = object_arr[ii]\n",
    "\t\n",
    "\t''' CC1 '''\n",
    "\tcc_file1 = cc_dir+'object'+str(obj1).zfill(4)+'_stats000.dat'\n",
    "\t\n",
    "\tread_in = np.loadtxt(cc_file1)\n",
    "\n",
    "\ttime = read_in[0]\n",
    "\tdata = read_in[1:]\n",
    "\t\n",
    "\tarr_time = np.logical_and(time >= -1000, time <= 2000)\n",
    "\tdata = data[:,arr_time]\n",
    "\t\n",
    "\tcor_mean = data[0,::5]\n",
    "# \tcor_err_d = cor_mean-data[1]\n",
    "# \tcor_err_u = data[2]-cor_mean\n",
    "\t\n",
    "\tarr1 = np.logical_and(np.isfinite(cor_mean), cor_mean > -1.1)\n",
    "\t\n",
    "\t''' AC-gam '''\n",
    "\tac_gam_file1 = gam_ac_dir+'object'+str(obj1).zfill(4)+'_auto_gam_stats000.dat'\n",
    "\t\n",
    "\tread_in = np.loadtxt(ac_gam_file1)\n",
    "\ttime = read_in[0]\n",
    "\tdata = read_in[1:]\n",
    "\tarr_time_acg = time <= 2000\n",
    "\tdata = data[:,arr_time_acg]\n",
    "\n",
    "\tacg_mean1 = data[0,::5]\n",
    "\t\n",
    "\tarr1_acg = np.logical_and(np.isfinite(acg_mean1), acg_mean1 > -1.1)\n",
    "\t\n",
    "\tfor jj in range(ii+1, len(object_arr)):\n",
    "\t\tobj2 = object_arr[jj]\n",
    "\t\tcc_file2 = cc_dir+'object'+str(obj2).zfill(4)+'_stats000.dat'\n",
    "\n",
    "\t\tread_in = np.loadtxt(cc_file2)\n",
    "\t\tdata = read_in[1:]\n",
    "\t\tdata = data[:,arr_time]\n",
    "\n",
    "\t\tcor_mean2 = data[0,::5]\n",
    "# \t\tcor_err_d2 = cor_mean-data[1]\n",
    "# \t\tcor_err_u2 = data[2]-cor_mean\n",
    "\t\t\n",
    "\t\tarr2 = np.logical_and(np.isfinite(cor_mean2), cor_mean > -1.1)\n",
    "\t\tarr_tot = np.logical_and(arr1, arr2)\n",
    "\t\t\n",
    "\t\tfac = 10.\n",
    "\t\tx_cc = np.arctan(fac*cor_mean[arr_tot])\n",
    "\t\ty_cc = np.arctan(fac*cor_mean2[arr_tot])\n",
    "\t\t\n",
    "\t\tdist_cc = np.sum((x_cc-y_cc)**2)\n",
    "\t\t\n",
    "# \t\tcc_corr, cc_pval = pearsonr(x_cc,y_cc)\n",
    "\t\t\n",
    "\t\t\n",
    "\t\t''' AC-gam '''\n",
    "\t\tac_gam_file2 = gam_ac_dir+'object'+str(obj2).zfill(4)+'_auto_gam_stats000.dat'\n",
    "\n",
    "\t\tread_in = np.loadtxt(ac_gam_file2)\n",
    "\t\tdata = read_in[1:]\n",
    "\t\tdata = data[:,arr_time_acg]\n",
    "\n",
    "\t\tacg_mean2 = data[0,::5]\n",
    "\t\tarr2_acg = np.logical_and(np.isfinite(acg_mean2), acg_mean2 > -1.1)\n",
    "\t\t\n",
    "\t\tarr_tot_acg = np.logical_and(arr1_acg, arr2_acg)\n",
    "\t\tx_acg = np.arctan(fac*acg_mean1[arr_tot_acg])\n",
    "\t\ty_acg = np.arctan(fac*acg_mean2[arr_tot_acg])\n",
    "\t\t\n",
    "# \t\tacg_corr, acg_pval = pearsonr(x_acg, y_acg)\n",
    "\t\tdist_acg = np.sum((x_acg-y_acg)**2)\n",
    "\t\t\n",
    "\t\tc_matrix[index] = dist_cc + dist_acg\n",
    "\t\tc_matrix_cc[index] = dist_cc\n",
    "# \t\tprint([obj1, obj2], end='')\n",
    "\t\tindex+= 1\n",
    "\tprint(obj1, end=' ')\n",
    "c_matrix_dist = c_matrix\n",
    "c_matrix_dist_cc = c_matrix_cc\n",
    "\t\n",
    "np.savetxt('dist2_c_matrix.dat', c_matrix_dist)\n",
    "np.savetxt('dist2_cc_c_matrix.dat', c_matrix_dist_cc)"
   ]
  },
  {
   "cell_type": "code",
   "execution_count": 48,
   "metadata": {},
   "outputs": [
    {
     "data": {
      "image/png": "[encoded data removed]",
      "text/plain": [
       "<Figure size 432x288 with 1 Axes>"
      ]
     },
     "metadata": {
      "needs_background": "light"
     },
     "output_type": "display_data"
    }
   ],
   "source": [
    "links = hac.linkage(c_matrix_dist_cc)\n",
    "fig = plt.figure()\n",
    "dn = hac.dendrogram(links)\n",
    "\n",
    "\n",
    "plt.savefig('clusters_dist.png', dpi=400)"
   ]
  },
  {
   "cell_type": "code",
   "execution_count": 49,
   "metadata": {},
   "outputs": [
    {
     "data": {
      "image/png": "[encoded data removed]",
      "text/plain": [
       "<Figure size 432x288 with 1 Axes>"
      ]
     },
     "metadata": {
      "needs_background": "light"
     },
     "output_type": "display_data"
    }
   ],
   "source": [
    "links = hac.linkage(c_matrix_dist)\n",
    "fig = plt.figure()\n",
    "dn = hac.dendrogram(links)\n",
    "\n",
    "\n",
    "plt.savefig('clusters_dist+gam.png', dpi=400)"
   ]
  },
  {
   "cell_type": "code",
   "execution_count": null,
   "metadata": {},
   "outputs": [],
   "source": []
  }
 ],
 "metadata": {
  "kernelspec": {
   "display_name": "Python 3",
   "language": "python",
   "name": "python3"
  },
  "language_info": {
   "codemirror_mode": {
    "name": "ipython",
    "version": 3
   },
   "file_extension": ".py",
   "mimetype": "text/x-python",
   "name": "python",
   "nbconvert_exporter": "python",
   "pygments_lexer": "ipython3",
   "version": "3.7.6"
  }
 },
 "nbformat": 4,
 "nbformat_minor": 4
}
