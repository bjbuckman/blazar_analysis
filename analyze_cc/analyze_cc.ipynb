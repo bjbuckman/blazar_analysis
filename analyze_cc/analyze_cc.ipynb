{
 "cells": [
  {
   "cell_type": "code",
   "execution_count": 109,
   "metadata": {},
   "outputs": [],
   "source": [
    "import numpy as np\n",
    "import pandas as pd\n",
    "from IPython.display import display\n",
    "from scipy.interpolate import interp1d\n",
    "\n"
   ]
  },
  {
   "cell_type": "code",
   "execution_count": 110,
   "metadata": {},
   "outputs": [],
   "source": [
    "# cc_bb_dir = '/mnt/d/physics/gamma-optical/2001/output/bayesian_block_cc/'\n",
    "cc_bb_dir = '../../2001/output/bayesian_block_cc/'\n",
    "cc_dir = '../../2001/output/cross_corr/'\n",
    "cc_sig_dir = '../../2001/output/cross_object_gam+opt/'"
   ]
  },
  {
   "cell_type": "code",
   "execution_count": 111,
   "metadata": {},
   "outputs": [
    {
     "name": "stdout",
     "output_type": "stream",
     "text": [
      "(2, 170)\n",
      "[    0  1863  1906  1933  2039  2053  2151  2292  2314  2330  2372  2437\n",
      "  2531  2617  2654  2715  2800  2867  2910  2965  2994  3065  3078  3118\n",
      "  3211  3276  3299  3377  3406  3514  3538  3625  3668  3728  3793  3866\n",
      "  3907  3951  4042  4071  4093  4178  4268  4386  4439  4540  4662  4844\n",
      "  4934  4959  5059  5108  5183  5273  5386  5742  5770  5848  5904  5947\n",
      "  5988  6034  6055  6129  6169  6323  6431  6469  6558  6770  6806  6857\n",
      "  6979  7134  7172  7207  7231  7303  7430  7485  7527  7588  7677  7746\n",
      "  7808  7881  7964  8135  8188  8227  8398  8587  8662  8762  8847  8870\n",
      "  8900  8924  8986  9032  9089  9153  9189  9223  9340  9419  9529  9562\n",
      "  9651  9689  9771  9871 10043 10147 10401 10438 10483 10508 10560 10620\n",
      " 10676 10918 10970 11031 11081 11206 11331 11481 11560 11622 11652 11680\n",
      " 11717 11978 12035 12113 12165 12266 12353 12450 12520 12553 12666 12720\n",
      " 12785 12929 13008 13085 13130 13222 13273 13299 13464 13620 13713 13902\n",
      " 13972 14037 14076 14102 14146 14177 14205 14400 14486 14570 14613 14672\n",
      " 14713 14902]\n",
      "[ 1863  1906  1933  2039  2053  2151  2292  2314  2330  2372  2437  2531\n",
      "  2617  2654  2715  2800  2867  2910  2965  2994  3065  3078  3118  3211\n",
      "  3276  3299  3377  3406  3514  3538  3625  3668  3728  3793  3866  3907\n",
      "  3951  4042  4071  4093  4178  4268  4386  4439  4540  4662  4844  4934\n",
      "  4959  5059  5108  5183  5273  5386  5742  5770  5848  5904  5947  5988\n",
      "  6034  6055  6129  6169  6323  6431  6469  6558  6770  6806  6857  6979\n",
      "  7134  7172  7207  7231  7303  7430  7485  7527  7588  7677  7746  7808\n",
      "  7881  7964  8135  8188  8227  8398  8587  8662  8762  8847  8870  8900\n",
      "  8924  8986  9032  9089  9153  9189  9223  9340  9419  9529  9562  9651\n",
      "  9689  9771  9871 10043 10147 10401 10438 10483 10508 10560 10620 10676\n",
      " 10918 10970 11031 11081 11206 11331 11481 11560 11622 11652 11680 11717\n",
      " 11978 12035 12113 12165 12266 12353 12450 12520 12553 12666 12720 12785\n",
      " 12929 13008 13085 13130 13222 13273 13299 13464 13620 13713 13902 13972\n",
      " 14037 14076 14102 14146 14177 14205 14400 14486 14570 14613 14672 14713\n",
      " 14902 14999]\n"
     ]
    }
   ],
   "source": [
    "object_num = 0\n",
    "\n",
    "cc_bb_file = cc_bb_dir+'object'+str(object_num).zfill(4)+'_cc_change_points_000.dat'\n",
    "read_in_bb = np.loadtxt(cc_bb_file)\n",
    "print(read_in_bb.shape)\n",
    "\n",
    "bb_time_index = read_in_bb[0].astype(int)\n",
    "bb_bin_norm = read_in_bb[1]\n",
    "num_bins = len(bb_time_index)\n",
    "\n",
    "\n",
    "bb_bin_start = bb_time_index\n",
    "\n",
    "bb_bin_end = np.zeros(len(bb_bin_start)).astype(np.int)\n",
    "bb_bin_end[:-1] = bb_time_index[1:]\n",
    "bb_bin_end[-1] = 14999\n",
    "\n",
    "print(bb_bin_start)\n",
    "print(bb_bin_end)\n",
    "\n",
    "\n",
    "cc_file = cc_dir+'object'+str(object_num).zfill(4)+'_stats000.dat'\n",
    "# read_in_cc = np.loadtxt(cc_file)\n",
    "# print(read_in_cc.shape)\n",
    "\n",
    "cc_sig_file = cc_sig_dir+'cross_object'+str(object_num).zfill(4)+'_all_stats_000.dat'\n",
    "# read_in_cc_sig = np.loadtxt(cc_sig_file)\n",
    "# print(read_in_cc_sig.shape)\n",
    "\n"
   ]
  },
  {
   "cell_type": "code",
   "execution_count": 112,
   "metadata": {},
   "outputs": [
    {
     "name": "stdout",
     "output_type": "stream",
     "text": [
      "cc array shape: (9, 14999)\n"
     ]
    }
   ],
   "source": [
    "## Reading in cross correlation values\n",
    "\n",
    "read_in = np.loadtxt(cc_file)\n",
    "\n",
    "time_err = read_in[0]\n",
    "data_err = read_in[1:]\n",
    "\n",
    "cor_mean = data_err[0]\n",
    "cor_err_d = cor_mean-data_err[1]\n",
    "cor_err_u = data_err[2]-cor_mean\n",
    "\n",
    "# expected_cor_up = cor_err_u *np.sqrt(2/np.pi)\n",
    "# expected_cor_dn = cor_err_d *np.sqrt(2/np.pi)\n",
    "\n",
    "# expected_cor = cor_mean + expected_cor_up - expected_cor_dn\n",
    "\n",
    "# cor_mean = expected_cor\n",
    "\n",
    "print('cc array shape: '+str(data_err.shape))"
   ]
  },
  {
   "cell_type": "code",
   "execution_count": 113,
   "metadata": {},
   "outputs": [
    {
     "name": "stderr",
     "output_type": "stream",
     "text": [
      "C:\\Users\\psyko\\Anaconda3\\lib\\site-packages\\scipy\\interpolate\\interpolate.py:609: RuntimeWarning: divide by zero encountered in true_divide\n",
      "  slope = (y_hi - y_lo) / (x_hi - x_lo)[:, None]\n"
     ]
    },
    {
     "name": "stdout",
     "output_type": "stream",
     "text": [
      "[0.         0.         0.         ... 0.1925781  0.16455392 0.14711519]\n"
     ]
    }
   ],
   "source": [
    "## Making significance function\n",
    "\n",
    "read_in = np.loadtxt(cc_sig_file)\n",
    "time = read_in[0]\n",
    "data = read_in[1:] ## significance\n",
    "data = data[:-2] ## getting rid of \"all\"\n",
    "\n",
    "cc_significance = np.zeros(len(time))\n",
    "\n",
    "significance = np.array([0., -1., 1., -2., 2., -3., 3.])\n",
    "for ii in range(0,len(time)):\n",
    "    significance_function = interp1d(data.T[ii], significance, axis=0, fill_value='extrapolate')\n",
    "    cc_significance[ii] = significance_function(cor_mean[ii])\n",
    "\n",
    "cc_significance[np.isnan(cc_significance)] = 0.\n",
    "print(cc_significance)"
   ]
  },
  {
   "cell_type": "code",
   "execution_count": 114,
   "metadata": {},
   "outputs": [
    {
     "name": "stdout",
     "output_type": "stream",
     "text": [
      "[-0.00406926 -0.56838118  0.1664509  -0.34715605 -1.19392653 -0.44221404\n",
      "  0.20154018  0.89682618  1.47846244  0.38465959]\n",
      "[-0.80232636 -0.89090909  0.68591708 -1.05797101 -1.79954955 -1.38452924\n",
      "  0.88501742  1.35780564  1.70668906  0.8537859 ]\n",
      "[   0 1864 1914 1979 2041 2076 2248 2314 2320 2330]\n"
     ]
    }
   ],
   "source": [
    "## Find max significance in bb bin\n",
    "\n",
    "avg_sig = np.zeros(num_bins)\n",
    "max_sig = np.zeros(num_bins)\n",
    "max_cc_index = np.zeros(num_bins).astype(np.int)\n",
    "\n",
    "for ii in range(0,num_bins):\n",
    "    sig_arr = cc_significance[bb_bin_start[ii]:bb_bin_end[ii]+1]\n",
    "    cc_arr = cor_mean[bb_bin_start[ii]:bb_bin_end[ii]+1]\n",
    "    index_arr = np.arange(bb_bin_start[ii], bb_bin_end[ii]+1).astype(np.int)\n",
    "    if np.average(sig_arr) >= 0:\n",
    "        avg_sig[ii] = np.average(sig_arr)\n",
    "        max_sig[ii] = np.amax(sig_arr)\n",
    "        max_cc_index[ii] = index_arr[np.argmax(cc_arr)] \n",
    "    else:\n",
    "        avg_sig[ii] = np.average(sig_arr)\n",
    "        max_sig[ii] = np.amin(sig_arr)\n",
    "        max_cc_index[ii] = index_arr[np.argmin(cc_arr)] \n",
    "\n",
    "print(avg_sig[:10])\n",
    "print(max_sig[:10])\n",
    "print(max_cc_index[:10])\n"
   ]
  },
  {
   "cell_type": "code",
   "execution_count": 115,
   "metadata": {},
   "outputs": [
    {
     "name": "stdout",
     "output_type": "stream",
     "text": [
      "6\n",
      "[[ 0.00000000e+00 -1.38280000e+03 -1.37120000e+03 -1.37920000e+03\n",
      "  -4.60150641e-01 -2.53624150e+00]\n",
      " [ 0.00000000e+00 -4.70400000e+02 -4.27200000e+02 -4.53200000e+02\n",
      "   4.51010595e-01  2.34036980e+00]\n",
      " [ 0.00000000e+00 -5.60000000e+00  1.12000000e+01 -4.00000000e-01\n",
      "   6.25290231e-01  3.86681382e+00]\n",
      " [ 0.00000000e+00  8.76000000e+02  9.08800000e+02  9.03600000e+02\n",
      "  -4.40236491e-01 -2.27979641e+00]\n",
      " [ 0.00000000e+00  1.01760000e+03  1.05920000e+03  1.04560000e+03\n",
      "  -5.00919685e-01 -2.80694496e+00]\n",
      " [ 0.00000000e+00  2.17200000e+03  2.20360000e+03  2.18440000e+03\n",
      "   5.00423477e-01  2.73611219e+00]]\n"
     ]
    }
   ],
   "source": [
    "'''\n",
    "Arrays:\n",
    "time\n",
    "cor_mean\n",
    "bb_bin_start, bb_bin_end, bb_bin_norm\n",
    "max_sig, max_cc_index\n",
    "\n",
    "We want \n",
    "bin_start_time, bin_end_time, max_cc_in_bin_time, max_cc_in_bin, max_sig_in_bin\n",
    "for only sig >= +(-) 2 for local max(min)\n",
    "'''\n",
    "\n",
    "output_arr = np.zeros([1,5])\n",
    "for ii in range(1,num_bins-1):\n",
    "    if time[bb_bin_end[ii]] < -1500. or time[bb_bin_start[ii]] > 2500.:\n",
    "        continue\n",
    "    \n",
    "    if bb_bin_norm[ii] >= 0:\n",
    "        if bb_bin_norm[ii] > bb_bin_norm[ii+1] and bb_bin_norm[ii] > bb_bin_norm[ii-1]:\n",
    "            bin_start_time = time[bb_bin_start[ii]]\n",
    "            bin_end_time = time[bb_bin_end[ii]]\n",
    "            max_cc_in_bin_time = time[max_cc_index[ii]]\n",
    "            max_cc_in_bin = cor_mean[max_cc_index[ii]]\n",
    "            max_sig_in_bin = max_sig[ii]\n",
    "            avg_sig_in_bin = avg_sig[ii]\n",
    "            \n",
    "            if avg_sig_in_bin >= 2.:\n",
    "                new_row = np.array([bin_start_time, bin_end_time, max_cc_in_bin_time, max_cc_in_bin, max_sig_in_bin])\n",
    "                output_arr = np.append(output_arr, [new_row], axis=0)\n",
    "            \n",
    "    elif bb_bin_norm[ii] < 0:\n",
    "        if bb_bin_norm[ii] < bb_bin_norm[ii+1] and bb_bin_norm[ii] < bb_bin_norm[ii-1]:\n",
    "            bin_start_time = time[bb_bin_start[ii]]\n",
    "            bin_end_time = time[bb_bin_end[ii]]\n",
    "            max_cc_in_bin_time = time[max_cc_index[ii]]\n",
    "            max_cc_in_bin = cor_mean[max_cc_index[ii]]\n",
    "            max_sig_in_bin = max_sig[ii]\n",
    "            avg_sig_in_bin = avg_sig[ii]\n",
    "            \n",
    "            if avg_sig_in_bin <= -2.:\n",
    "                new_row = np.array([bin_start_time, bin_end_time, max_cc_in_bin_time, max_cc_in_bin, max_sig_in_bin])\n",
    "                output_arr = np.append(output_arr, [new_row], axis=0)\n",
    "\n",
    "if len(output_arr) > 1:\n",
    "    output_arr = output_arr[1:]\n",
    "    \n",
    "num_sig_bins = len(output_arr)\n",
    "output_arr = np.append(object_num*np.ones([num_sig_bins,1]), output_arr, axis = 1)\n",
    "df_arr = output_arr.T\n",
    "print(len(output_arr))\n",
    "print(output_arr)\n",
    "            "
   ]
  },
  {
   "cell_type": "code",
   "execution_count": 123,
   "metadata": {},
   "outputs": [
    {
     "data": {
      "text/html": [
       "<div>\n",
       "<style scoped>\n",
       "    .dataframe tbody tr th:only-of-type {\n",
       "        vertical-align: middle;\n",
       "    }\n",
       "\n",
       "    .dataframe tbody tr th {\n",
       "        vertical-align: top;\n",
       "    }\n",
       "\n",
       "    .dataframe thead th {\n",
       "        text-align: right;\n",
       "    }\n",
       "</style>\n",
       "<table border=\"1\" class=\"dataframe\">\n",
       "  <thead>\n",
       "    <tr style=\"text-align: right;\">\n",
       "      <th></th>\n",
       "      <th>object_num</th>\n",
       "      <th>time_start</th>\n",
       "      <th>time_end</th>\n",
       "      <th>max_cc_time</th>\n",
       "      <th>max_cc_val</th>\n",
       "      <th>max_sig</th>\n",
       "    </tr>\n",
       "  </thead>\n",
       "  <tbody>\n",
       "    <tr>\n",
       "      <th>2</th>\n",
       "      <td>0</td>\n",
       "      <td>-5.6</td>\n",
       "      <td>11.2</td>\n",
       "      <td>-0.4</td>\n",
       "      <td>0.625290</td>\n",
       "      <td>0.625290</td>\n",
       "    </tr>\n",
       "    <tr>\n",
       "      <th>5</th>\n",
       "      <td>0</td>\n",
       "      <td>2172.0</td>\n",
       "      <td>2203.6</td>\n",
       "      <td>2184.4</td>\n",
       "      <td>0.500423</td>\n",
       "      <td>0.500423</td>\n",
       "    </tr>\n",
       "    <tr>\n",
       "      <th>1</th>\n",
       "      <td>0</td>\n",
       "      <td>-470.4</td>\n",
       "      <td>-427.2</td>\n",
       "      <td>-453.2</td>\n",
       "      <td>0.451011</td>\n",
       "      <td>0.451011</td>\n",
       "    </tr>\n",
       "    <tr>\n",
       "      <th>3</th>\n",
       "      <td>0</td>\n",
       "      <td>876.0</td>\n",
       "      <td>908.8</td>\n",
       "      <td>903.6</td>\n",
       "      <td>-0.440236</td>\n",
       "      <td>-0.440236</td>\n",
       "    </tr>\n",
       "    <tr>\n",
       "      <th>0</th>\n",
       "      <td>0</td>\n",
       "      <td>-1382.8</td>\n",
       "      <td>-1371.2</td>\n",
       "      <td>-1379.2</td>\n",
       "      <td>-0.460151</td>\n",
       "      <td>-0.460151</td>\n",
       "    </tr>\n",
       "    <tr>\n",
       "      <th>4</th>\n",
       "      <td>0</td>\n",
       "      <td>1017.6</td>\n",
       "      <td>1059.2</td>\n",
       "      <td>1045.6</td>\n",
       "      <td>-0.500920</td>\n",
       "      <td>-0.500920</td>\n",
       "    </tr>\n",
       "  </tbody>\n",
       "</table>\n",
       "</div>"
      ],
      "text/plain": [
       "   object_num  time_start  time_end  max_cc_time  max_cc_val   max_sig\n",
       "2           0        -5.6      11.2         -0.4    0.625290  0.625290\n",
       "5           0      2172.0    2203.6       2184.4    0.500423  0.500423\n",
       "1           0      -470.4    -427.2       -453.2    0.451011  0.451011\n",
       "3           0       876.0     908.8        903.6   -0.440236 -0.440236\n",
       "0           0     -1382.8   -1371.2      -1379.2   -0.460151 -0.460151\n",
       "4           0      1017.6    1059.2       1045.6   -0.500920 -0.500920"
      ]
     },
     "metadata": {},
     "output_type": "display_data"
    }
   ],
   "source": [
    "'''\n",
    "Convert data to pandas data frame\n",
    "'''\n",
    "df_dict = {'object_num':df_arr[0].astype(np.int), \n",
    "           'time_start':df_arr[1], \n",
    "           'time_end':df_arr[2], \n",
    "           'max_cc_time':df_arr[3], \n",
    "           'max_cc_val':df_arr[4], \n",
    "           'max_sig':df_arr[4]}\n",
    "\n",
    "df = pd.DataFrame(df_dict)\n",
    "df = df.sort_values(by=['object_num', 'max_cc_val'], ascending=False)\n",
    "# print(df.to_markdown)\n",
    "display(df)\n",
    "\n"
   ]
  },
  {
   "cell_type": "code",
   "execution_count": null,
   "metadata": {},
   "outputs": [],
   "source": []
  }
 ],
 "metadata": {
  "kernelspec": {
   "display_name": "Python 3",
   "language": "python",
   "name": "python3"
  },
  "language_info": {
   "codemirror_mode": {
    "name": "ipython",
    "version": 3
   },
   "file_extension": ".py",
   "mimetype": "text/x-python",
   "name": "python",
   "nbconvert_exporter": "python",
   "pygments_lexer": "ipython3",
   "version": "3.7.6"
  }
 },
 "nbformat": 4,
 "nbformat_minor": 4
}
